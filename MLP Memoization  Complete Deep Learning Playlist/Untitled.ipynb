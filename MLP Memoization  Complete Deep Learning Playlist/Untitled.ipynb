{
 "cells": [
  {
   "cell_type": "code",
   "execution_count": 5,
   "id": "62eaf2d8-7e48-4114-9fe1-dc56b3d245b1",
   "metadata": {},
   "outputs": [],
   "source": [
    "# fib \n",
    "import time \n",
    "def fib(n):\n",
    "    if n ==1 or n ==0 :\n",
    "        return 1\n",
    "    else : \n",
    "       return fib(n-1) + fib(n-2)"
   ]
  },
  {
   "cell_type": "code",
   "execution_count": 7,
   "id": "7db23564-25ba-4761-a117-e0f866a37397",
   "metadata": {},
   "outputs": [
    {
     "name": "stdout",
     "output_type": "stream",
     "text": [
      "1.7859585285186768\n"
     ]
    }
   ],
   "source": [
    "start = time.time()\n",
    "fib(34)\n",
    "print(time.time() -  start)"
   ]
  },
  {
   "cell_type": "markdown",
   "id": "d77a9ac2-2efc-4e80-8b09-24b85ceb2bd5",
   "metadata": {},
   "source": [
    "here using the memoization"
   ]
  },
  {
   "cell_type": "code",
   "execution_count": 9,
   "id": "e793f8a0-2410-4efa-9a38-267c636cef89",
   "metadata": {},
   "outputs": [],
   "source": [
    "import time \n",
    "def fib(n,b): \n",
    "    if n in d : \n",
    "        return d[n]\n",
    "    else :\n",
    "        d[n] = fib(n-1,d) + fib(n-2,d)\n",
    "        return d[n]"
   ]
  },
  {
   "cell_type": "code",
   "execution_count": 14,
   "id": "cc99028b-a6a2-49f8-9df9-4adc448c003d",
   "metadata": {},
   "outputs": [
    {
     "name": "stdout",
     "output_type": "stream",
     "text": [
      "0.0010502338409423828\n"
     ]
    }
   ],
   "source": [
    "start = time.time()\n",
    "d = {0:1,1:1}\n",
    "fib(100,d)\n",
    "print(time.time()  -  start)"
   ]
  },
  {
   "cell_type": "code",
   "execution_count": null,
   "id": "cc055dea-ab13-49f7-ab31-77d316ffefb8",
   "metadata": {},
   "outputs": [],
   "source": []
  }
 ],
 "metadata": {
  "kernelspec": {
   "display_name": "Python 3 (ipykernel)",
   "language": "python",
   "name": "python3"
  },
  "language_info": {
   "codemirror_mode": {
    "name": "ipython",
    "version": 3
   },
   "file_extension": ".py",
   "mimetype": "text/x-python",
   "name": "python",
   "nbconvert_exporter": "python",
   "pygments_lexer": "ipython3",
   "version": "3.11.7"
  }
 },
 "nbformat": 4,
 "nbformat_minor": 5
}
