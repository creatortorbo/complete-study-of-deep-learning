{
 "cells": [
  {
   "cell_type": "code",
   "execution_count": 8,
   "id": "84d798e1-c4f7-421c-bac8-2beca11d4242",
   "metadata": {},
   "outputs": [],
   "source": [
    "import numpy as np\n",
    "import pandas as pd\n",
    "import matplotlib.pyplot as plt\n",
    "\n",
    "import tensorflow\n",
    "from tensorflow import keras\n",
    "from keras import Sequential\n",
    "from keras.layers import Dense"
   ]
  },
  {
   "cell_type": "code",
   "execution_count": 3,
   "id": "abde3c68-9f8a-4be6-b26f-4374bf7c0631",
   "metadata": {},
   "outputs": [
    {
     "data": {
      "text/html": [
       "<div>\n",
       "<style scoped>\n",
       "    .dataframe tbody tr th:only-of-type {\n",
       "        vertical-align: middle;\n",
       "    }\n",
       "\n",
       "    .dataframe tbody tr th {\n",
       "        vertical-align: top;\n",
       "    }\n",
       "\n",
       "    .dataframe thead th {\n",
       "        text-align: right;\n",
       "    }\n",
       "</style>\n",
       "<table border=\"1\" class=\"dataframe\">\n",
       "  <thead>\n",
       "    <tr style=\"text-align: right;\">\n",
       "      <th></th>\n",
       "      <th>3.159499363321345566e-02</th>\n",
       "      <th>9.869877579082642072e-01</th>\n",
       "      <th>0.000000000000000000e+00</th>\n",
       "    </tr>\n",
       "  </thead>\n",
       "  <tbody>\n",
       "    <tr>\n",
       "      <th>0</th>\n",
       "      <td>2.115098</td>\n",
       "      <td>-0.046244</td>\n",
       "      <td>1.0</td>\n",
       "    </tr>\n",
       "    <tr>\n",
       "      <th>1</th>\n",
       "      <td>0.882490</td>\n",
       "      <td>-0.075756</td>\n",
       "      <td>0.0</td>\n",
       "    </tr>\n",
       "    <tr>\n",
       "      <th>2</th>\n",
       "      <td>-0.055144</td>\n",
       "      <td>-0.037332</td>\n",
       "      <td>1.0</td>\n",
       "    </tr>\n",
       "    <tr>\n",
       "      <th>3</th>\n",
       "      <td>0.829545</td>\n",
       "      <td>-0.539321</td>\n",
       "      <td>1.0</td>\n",
       "    </tr>\n",
       "    <tr>\n",
       "      <th>4</th>\n",
       "      <td>2.112857</td>\n",
       "      <td>0.662084</td>\n",
       "      <td>1.0</td>\n",
       "    </tr>\n",
       "  </tbody>\n",
       "</table>\n",
       "</div>"
      ],
      "text/plain": [
       "   3.159499363321345566e-02  9.869877579082642072e-01  \\\n",
       "0                  2.115098                 -0.046244   \n",
       "1                  0.882490                 -0.075756   \n",
       "2                 -0.055144                 -0.037332   \n",
       "3                  0.829545                 -0.539321   \n",
       "4                  2.112857                  0.662084   \n",
       "\n",
       "   0.000000000000000000e+00  \n",
       "0                       1.0  \n",
       "1                       0.0  \n",
       "2                       1.0  \n",
       "3                       1.0  \n",
       "4                       1.0  "
      ]
     },
     "execution_count": 3,
     "metadata": {},
     "output_type": "execute_result"
    }
   ],
   "source": [
    "df = pd.read_csv('ushape.csv')\n",
    "df.head()"
   ]
  },
  {
   "cell_type": "code",
   "execution_count": 4,
   "id": "83087192-57d4-46a6-8008-461b6ec2ee31",
   "metadata": {},
   "outputs": [
    {
     "data": {
      "text/html": [
       "<div>\n",
       "<style scoped>\n",
       "    .dataframe tbody tr th:only-of-type {\n",
       "        vertical-align: middle;\n",
       "    }\n",
       "\n",
       "    .dataframe tbody tr th {\n",
       "        vertical-align: top;\n",
       "    }\n",
       "\n",
       "    .dataframe thead th {\n",
       "        text-align: right;\n",
       "    }\n",
       "</style>\n",
       "<table border=\"1\" class=\"dataframe\">\n",
       "  <thead>\n",
       "    <tr style=\"text-align: right;\">\n",
       "      <th></th>\n",
       "      <th>x</th>\n",
       "      <th>y</th>\n",
       "      <th>class</th>\n",
       "    </tr>\n",
       "  </thead>\n",
       "  <tbody>\n",
       "    <tr>\n",
       "      <th>0</th>\n",
       "      <td>2.115098</td>\n",
       "      <td>-0.046244</td>\n",
       "      <td>1.0</td>\n",
       "    </tr>\n",
       "    <tr>\n",
       "      <th>1</th>\n",
       "      <td>0.882490</td>\n",
       "      <td>-0.075756</td>\n",
       "      <td>0.0</td>\n",
       "    </tr>\n",
       "    <tr>\n",
       "      <th>2</th>\n",
       "      <td>-0.055144</td>\n",
       "      <td>-0.037332</td>\n",
       "      <td>1.0</td>\n",
       "    </tr>\n",
       "    <tr>\n",
       "      <th>3</th>\n",
       "      <td>0.829545</td>\n",
       "      <td>-0.539321</td>\n",
       "      <td>1.0</td>\n",
       "    </tr>\n",
       "    <tr>\n",
       "      <th>4</th>\n",
       "      <td>2.112857</td>\n",
       "      <td>0.662084</td>\n",
       "      <td>1.0</td>\n",
       "    </tr>\n",
       "  </tbody>\n",
       "</table>\n",
       "</div>"
      ],
      "text/plain": [
       "          x         y  class\n",
       "0  2.115098 -0.046244    1.0\n",
       "1  0.882490 -0.075756    0.0\n",
       "2 -0.055144 -0.037332    1.0\n",
       "3  0.829545 -0.539321    1.0\n",
       "4  2.112857  0.662084    1.0"
      ]
     },
     "execution_count": 4,
     "metadata": {},
     "output_type": "execute_result"
    }
   ],
   "source": [
    "df = df.rename(columns={\n",
    "    '3.159499363321345566e-02': 'x',\n",
    "    '9.869877579082642072e-01': 'y',\n",
    "    '0.000000000000000000e+00': 'class'\n",
    "})\n",
    "df.head()"
   ]
  },
  {
   "cell_type": "code",
   "execution_count": 6,
   "id": "f20cc2ce-43a8-4ef2-a6a8-0efb023ff2b3",
   "metadata": {},
   "outputs": [
    {
     "data": {
      "text/plain": [
       "<matplotlib.collections.PathCollection at 0x1e206c6b290>"
      ]
     },
     "execution_count": 6,
     "metadata": {},
     "output_type": "execute_result"
    },
    {
     "data": {
      "image/png": "[encoded data removed]",
      "text/plain": [
       "<Figure size 640x480 with 1 Axes>"
      ]
     },
     "metadata": {},
     "output_type": "display_data"
    }
   ],
   "source": [
    "plt.scatter(df['x'],df['y'],c=df['class'])"
   ]
  },
  {
   "cell_type": "code",
   "execution_count": 1,
   "id": "6c85bed1-76f7-4754-8675-5e01aa7c07c3",
   "metadata": {},
   "outputs": [
    {
     "ename": "NameError",
     "evalue": "name 'df' is not defined",
     "output_type": "error",
     "traceback": [
      "\u001b[1;31m---------------------------------------------------------------------------\u001b[0m",
      "\u001b[1;31mNameError\u001b[0m                                 Traceback (most recent call last)",
      "Cell \u001b[1;32mIn[1], line 1\u001b[0m\n\u001b[1;32m----> 1\u001b[0m X \u001b[38;5;241m=\u001b[39m df\u001b[38;5;241m.\u001b[39miloc[:,\u001b[38;5;241m0\u001b[39m:\u001b[38;5;241m2\u001b[39m]\u001b[38;5;241m.\u001b[39mvalues\n\u001b[0;32m      2\u001b[0m y \u001b[38;5;241m=\u001b[39m df\u001b[38;5;241m.\u001b[39miloc[:,\u001b[38;5;241m-\u001b[39m\u001b[38;5;241m1\u001b[39m]\u001b[38;5;241m.\u001b[39mvalues\n",
      "\u001b[1;31mNameError\u001b[0m: name 'df' is not defined"
     ]
    }
   ],
   "source": [
    "X = df.iloc[:,0:2].values\n",
    "y = df.iloc[:,-1].values"
   ]
  },
  {
   "cell_type": "code",
   "execution_count": 10,
   "id": "a4f35405-46a6-4364-af34-eb50951886ac",
   "metadata": {},
   "outputs": [
    {
     "name": "stderr",
     "output_type": "stream",
     "text": [
      "x:\\Users\\ASUS\\anaconda3\\Lib\\site-packages\\keras\\src\\layers\\core\\dense.py:87: UserWarning: Do not pass an `input_shape`/`input_dim` argument to a layer. When using Sequential models, prefer using an `Input(shape)` object as the first layer in the model instead.\n",
      "  super().__init__(activity_regularizer=activity_regularizer, **kwargs)\n"
     ]
    },
    {
     "data": {
      "text/html": [
       "<pre style=\"white-space:pre;overflow-x:auto;line-height:normal;font-family:Menlo,'DejaVu Sans Mono',consolas,'Courier New',monospace\"><span style=\"font-weight: bold\">Model: \"sequential_1\"</span>\n",
       "</pre>\n"
      ],
      "text/plain": [
       "\u001b[1mModel: \"sequential_1\"\u001b[0m\n"
      ]
     },
     "metadata": {},
     "output_type": "display_data"
    },
    {
     "data": {
      "text/html": [
       "<pre style=\"white-space:pre;overflow-x:auto;line-height:normal;font-family:Menlo,'DejaVu Sans Mono',consolas,'Courier New',monospace\">┏━━━━━━━━━━━━━━━━━━━━━━━━━━━━━━━━━┳━━━━━━━━━━━━━━━━━━━━━━━━┳━━━━━━━━━━━━━━━┓\n",
       "┃<span style=\"font-weight: bold\"> Layer (type)                    </span>┃<span style=\"font-weight: bold\"> Output Shape           </span>┃<span style=\"font-weight: bold\">       Param # </span>┃\n",
       "┡━━━━━━━━━━━━━━━━━━━━━━━━━━━━━━━━━╇━━━━━━━━━━━━━━━━━━━━━━━━╇━━━━━━━━━━━━━━━┩\n",
       "│ dense_5 (<span style=\"color: #0087ff; text-decoration-color: #0087ff\">Dense</span>)                 │ (<span style=\"color: #00d7ff; text-decoration-color: #00d7ff\">None</span>, <span style=\"color: #00af00; text-decoration-color: #00af00\">10</span>)             │            <span style=\"color: #00af00; text-decoration-color: #00af00\">30</span> │\n",
       "├─────────────────────────────────┼────────────────────────┼───────────────┤\n",
       "│ dense_6 (<span style=\"color: #0087ff; text-decoration-color: #0087ff\">Dense</span>)                 │ (<span style=\"color: #00d7ff; text-decoration-color: #00d7ff\">None</span>, <span style=\"color: #00af00; text-decoration-color: #00af00\">10</span>)             │           <span style=\"color: #00af00; text-decoration-color: #00af00\">110</span> │\n",
       "├─────────────────────────────────┼────────────────────────┼───────────────┤\n",
       "│ dense_7 (<span style=\"color: #0087ff; text-decoration-color: #0087ff\">Dense</span>)                 │ (<span style=\"color: #00d7ff; text-decoration-color: #00d7ff\">None</span>, <span style=\"color: #00af00; text-decoration-color: #00af00\">10</span>)             │           <span style=\"color: #00af00; text-decoration-color: #00af00\">110</span> │\n",
       "├─────────────────────────────────┼────────────────────────┼───────────────┤\n",
       "│ dense_8 (<span style=\"color: #0087ff; text-decoration-color: #0087ff\">Dense</span>)                 │ (<span style=\"color: #00d7ff; text-decoration-color: #00d7ff\">None</span>, <span style=\"color: #00af00; text-decoration-color: #00af00\">10</span>)             │           <span style=\"color: #00af00; text-decoration-color: #00af00\">110</span> │\n",
       "├─────────────────────────────────┼────────────────────────┼───────────────┤\n",
       "│ dense_9 (<span style=\"color: #0087ff; text-decoration-color: #0087ff\">Dense</span>)                 │ (<span style=\"color: #00d7ff; text-decoration-color: #00d7ff\">None</span>, <span style=\"color: #00af00; text-decoration-color: #00af00\">1</span>)              │            <span style=\"color: #00af00; text-decoration-color: #00af00\">11</span> │\n",
       "└─────────────────────────────────┴────────────────────────┴───────────────┘\n",
       "</pre>\n"
      ],
      "text/plain": [
       "┏━━━━━━━━━━━━━━━━━━━━━━━━━━━━━━━━━┳━━━━━━━━━━━━━━━━━━━━━━━━┳━━━━━━━━━━━━━━━┓\n",
       "┃\u001b[1m \u001b[0m\u001b[1mLayer (type)                   \u001b[0m\u001b[1m \u001b[0m┃\u001b[1m \u001b[0m\u001b[1mOutput Shape          \u001b[0m\u001b[1m \u001b[0m┃\u001b[1m \u001b[0m\u001b[1m      Param #\u001b[0m\u001b[1m \u001b[0m┃\n",
       "┡━━━━━━━━━━━━━━━━━━━━━━━━━━━━━━━━━╇━━━━━━━━━━━━━━━━━━━━━━━━╇━━━━━━━━━━━━━━━┩\n",
       "│ dense_5 (\u001b[38;5;33mDense\u001b[0m)                 │ (\u001b[38;5;45mNone\u001b[0m, \u001b[38;5;34m10\u001b[0m)             │            \u001b[38;5;34m30\u001b[0m │\n",
       "├─────────────────────────────────┼────────────────────────┼───────────────┤\n",
       "│ dense_6 (\u001b[38;5;33mDense\u001b[0m)                 │ (\u001b[38;5;45mNone\u001b[0m, \u001b[38;5;34m10\u001b[0m)             │           \u001b[38;5;34m110\u001b[0m │\n",
       "├─────────────────────────────────┼────────────────────────┼───────────────┤\n",
       "│ dense_7 (\u001b[38;5;33mDense\u001b[0m)                 │ (\u001b[38;5;45mNone\u001b[0m, \u001b[38;5;34m10\u001b[0m)             │           \u001b[38;5;34m110\u001b[0m │\n",
       "├─────────────────────────────────┼────────────────────────┼───────────────┤\n",
       "│ dense_8 (\u001b[38;5;33mDense\u001b[0m)                 │ (\u001b[38;5;45mNone\u001b[0m, \u001b[38;5;34m10\u001b[0m)             │           \u001b[38;5;34m110\u001b[0m │\n",
       "├─────────────────────────────────┼────────────────────────┼───────────────┤\n",
       "│ dense_9 (\u001b[38;5;33mDense\u001b[0m)                 │ (\u001b[38;5;45mNone\u001b[0m, \u001b[38;5;34m1\u001b[0m)              │            \u001b[38;5;34m11\u001b[0m │\n",
       "└─────────────────────────────────┴────────────────────────┴───────────────┘\n"
      ]
     },
     "metadata": {},
     "output_type": "display_data"
    },
    {
     "data": {
      "text/html": [
       "<pre style=\"white-space:pre;overflow-x:auto;line-height:normal;font-family:Menlo,'DejaVu Sans Mono',consolas,'Courier New',monospace\"><span style=\"font-weight: bold\"> Total params: </span><span style=\"color: #00af00; text-decoration-color: #00af00\">371</span> (1.45 KB)\n",
       "</pre>\n"
      ],
      "text/plain": [
       "\u001b[1m Total params: \u001b[0m\u001b[38;5;34m371\u001b[0m (1.45 KB)\n"
      ]
     },
     "metadata": {},
     "output_type": "display_data"
    },
    {
     "data": {
      "text/html": [
       "<pre style=\"white-space:pre;overflow-x:auto;line-height:normal;font-family:Menlo,'DejaVu Sans Mono',consolas,'Courier New',monospace\"><span style=\"font-weight: bold\"> Trainable params: </span><span style=\"color: #00af00; text-decoration-color: #00af00\">371</span> (1.45 KB)\n",
       "</pre>\n"
      ],
      "text/plain": [
       "\u001b[1m Trainable params: \u001b[0m\u001b[38;5;34m371\u001b[0m (1.45 KB)\n"
      ]
     },
     "metadata": {},
     "output_type": "display_data"
    },
    {
     "data": {
      "text/html": [
       "<pre style=\"white-space:pre;overflow-x:auto;line-height:normal;font-family:Menlo,'DejaVu Sans Mono',consolas,'Courier New',monospace\"><span style=\"font-weight: bold\"> Non-trainable params: </span><span style=\"color: #00af00; text-decoration-color: #00af00\">0</span> (0.00 B)\n",
       "</pre>\n"
      ],
      "text/plain": [
       "\u001b[1m Non-trainable params: \u001b[0m\u001b[38;5;34m0\u001b[0m (0.00 B)\n"
      ]
     },
     "metadata": {},
     "output_type": "display_data"
    }
   ],
   "source": [
    "model = Sequential()\n",
    "\n",
    "model.add(Dense(10,activation='tanh',input_dim=2))\n",
    "model.add(Dense(10,activation='tanh'))\n",
    "model.add(Dense(10,activation='tanh'))\n",
    "model.add(Dense(10,activation='tanh'))\n",
    "model.add(Dense(1,activation='sigmoid'))\n",
    "\n",
    "model.summary()"
   ]
  },
  {
   "cell_type": "code",
   "execution_count": 11,
   "id": "e0c8b8c9-b009-49ec-ac8c-ff2969a53e5f",
   "metadata": {},
   "outputs": [
    {
     "data": {
      "text/plain": [
       "[array([[ 0.35489327,  0.13212311, -0.6892839 ,  0.249434  ,  0.46307033,\n",
       "         -0.22937614,  0.05936706,  0.5937149 ,  0.4527362 , -0.24849477],\n",
       "        [-0.70065844,  0.6915141 ,  0.03592515,  0.46255308,  0.10195321,\n",
       "         -0.3083116 , -0.38146892, -0.0277648 , -0.63128495, -0.14042771]],\n",
       "       dtype=float32),\n",
       " array([0., 0., 0., 0., 0., 0., 0., 0., 0., 0.], dtype=float32),\n",
       " array([[ 0.29738933, -0.5331528 ,  0.05730236, -0.27762547,  0.21392566,\n",
       "          0.27270353, -0.12134257,  0.26424146,  0.00202531,  0.10824388],\n",
       "        [-0.29231796, -0.35153863, -0.12318191,  0.48089767, -0.03168154,\n",
       "          0.12254673, -0.24116185,  0.46680093, -0.00734198,  0.48961604],\n",
       "        [-0.228892  , -0.05388814, -0.03437895,  0.2682054 ,  0.1273002 ,\n",
       "         -0.33184934, -0.5052081 , -0.35018772,  0.05589342, -0.16952053],\n",
       "        [-0.34500444, -0.15845194,  0.2104984 ,  0.02947849, -0.28690344,\n",
       "         -0.34497702,  0.38256878, -0.04959363, -0.16805336,  0.24467754],\n",
       "        [-0.41794068,  0.53421557,  0.06810188,  0.03696549,  0.4968872 ,\n",
       "          0.11136609,  0.53925073, -0.00653762, -0.5039781 , -0.2725959 ],\n",
       "        [ 0.30151707, -0.16904506, -0.52640814,  0.11745775,  0.50570273,\n",
       "          0.15808213,  0.11350423, -0.5159149 , -0.5222893 , -0.4664285 ],\n",
       "        [ 0.35117066, -0.2473509 , -0.12256029,  0.08682966, -0.5345257 ,\n",
       "         -0.11045957, -0.07652009,  0.33477056, -0.1883282 ,  0.28460258],\n",
       "        [-0.29222956, -0.52721137,  0.39503503,  0.54129803,  0.42594177,\n",
       "         -0.44465464,  0.19074225,  0.25868952, -0.451724  ,  0.13455057],\n",
       "        [-0.3197405 ,  0.25023425,  0.2749402 , -0.3579301 ,  0.42274797,\n",
       "         -0.15131664,  0.44095343,  0.26395053,  0.3431291 ,  0.1775369 ],\n",
       "        [ 0.43486047, -0.16486612,  0.18389374,  0.50770426, -0.09929946,\n",
       "          0.38095617,  0.2957241 ,  0.24325359, -0.23328665, -0.18347049]],\n",
       "       dtype=float32),\n",
       " array([0., 0., 0., 0., 0., 0., 0., 0., 0., 0.], dtype=float32),\n",
       " array([[-3.29660952e-01, -1.86442792e-01,  2.81772673e-01,\n",
       "          6.33152127e-02,  4.18703556e-01,  1.21487558e-01,\n",
       "          3.49844754e-01,  2.88394332e-01, -4.08430785e-01,\n",
       "         -5.13200819e-01],\n",
       "        [-6.12877309e-02, -2.99804538e-01,  1.34244859e-01,\n",
       "          1.58734918e-01,  4.58455205e-01,  2.51652300e-01,\n",
       "         -4.22305286e-01, -1.66162461e-01, -2.77366042e-02,\n",
       "         -2.41058946e-01],\n",
       "        [-2.67830759e-01, -4.68596816e-02, -3.76460671e-01,\n",
       "         -2.62581170e-01,  4.70465899e-01, -2.35687107e-01,\n",
       "         -2.14103788e-01, -4.16240811e-01, -1.63904995e-01,\n",
       "          1.09016836e-01],\n",
       "        [-2.44333744e-02,  2.19350398e-01,  6.11985326e-02,\n",
       "          3.50885808e-01, -1.39026165e-01,  2.90812433e-01,\n",
       "         -3.26236546e-01,  1.85597241e-01, -3.32885563e-01,\n",
       "         -1.43187851e-01],\n",
       "        [ 5.25830269e-01,  2.84884155e-01,  2.21155643e-01,\n",
       "         -3.77347350e-01, -1.15849555e-01, -5.05437672e-01,\n",
       "          5.43800950e-01, -5.09449303e-01,  1.12868249e-01,\n",
       "          4.24339950e-01],\n",
       "        [-6.45334721e-02,  2.39559948e-01, -8.63645375e-02,\n",
       "          3.96932960e-02, -4.69262362e-01,  5.04808903e-01,\n",
       "         -2.60672897e-01,  3.22937131e-01,  3.58442783e-01,\n",
       "          2.90953457e-01],\n",
       "        [ 2.89132416e-01, -4.06358898e-01, -1.35252476e-01,\n",
       "         -2.44217515e-02,  4.61101532e-04, -4.70263064e-01,\n",
       "          4.98652816e-01, -3.99795175e-02, -4.51346040e-02,\n",
       "         -3.82580906e-01],\n",
       "        [-1.41433418e-01, -3.70085299e-01, -4.14923191e-01,\n",
       "         -5.29136360e-01, -3.83750200e-01, -5.31872392e-01,\n",
       "         -1.14031434e-02, -4.64970350e-01,  5.12828231e-01,\n",
       "          1.22442663e-01],\n",
       "        [ 1.65146351e-01,  4.99334574e-01, -8.03525448e-02,\n",
       "         -1.85186416e-01, -3.73045444e-01, -4.69898194e-01,\n",
       "          2.63174653e-01, -5.15068769e-02,  2.42406130e-03,\n",
       "         -3.06364596e-01],\n",
       "        [ 3.46432328e-02,  1.36730075e-02,  3.46378326e-01,\n",
       "         -1.21756792e-01,  3.44511449e-01,  5.54867983e-02,\n",
       "          3.26970100e-01,  4.62539792e-02,  3.25438797e-01,\n",
       "          1.54671192e-01]], dtype=float32),\n",
       " array([0., 0., 0., 0., 0., 0., 0., 0., 0., 0.], dtype=float32),\n",
       " array([[ 0.18038696,  0.2945907 ,  0.4635682 , -0.33757848,  0.20457536,\n",
       "          0.534847  , -0.08215791, -0.50657666, -0.28992912, -0.29667202],\n",
       "        [-0.39892912, -0.1822935 , -0.20021948,  0.31050992,  0.2781999 ,\n",
       "         -0.4479017 ,  0.00399333,  0.0663293 ,  0.30476594, -0.5359183 ],\n",
       "        [ 0.27302212, -0.3948266 ,  0.17621922,  0.3090117 ,  0.2658816 ,\n",
       "         -0.27349618, -0.36677215,  0.07304657, -0.29584616,  0.13503855],\n",
       "        [ 0.13263822, -0.40343451, -0.4404317 ,  0.26287615,  0.3494444 ,\n",
       "         -0.2499778 ,  0.2542203 ,  0.20966041,  0.4322729 ,  0.35291034],\n",
       "        [ 0.19011974, -0.08914265,  0.5163239 ,  0.5223361 ,  0.1780408 ,\n",
       "          0.202752  , -0.24733117,  0.5210571 ,  0.5024409 , -0.42597088],\n",
       "        [ 0.19355184,  0.11575538,  0.26631492, -0.5354591 ,  0.3774922 ,\n",
       "         -0.3605643 ,  0.23647106, -0.2929841 , -0.46705478, -0.21108109],\n",
       "        [ 0.09820396, -0.5012984 ,  0.27915335,  0.06169605,  0.36881572,\n",
       "         -0.03122419, -0.24235177,  0.19637042,  0.44878185,  0.47826695],\n",
       "        [-0.3270697 , -0.3826918 ,  0.3944158 ,  0.32756114,  0.28016984,\n",
       "         -0.4570932 , -0.2690276 ,  0.31592906,  0.20483732, -0.41273415],\n",
       "        [-0.37255013, -0.24978781,  0.25474995,  0.05673009,  0.16551775,\n",
       "          0.05527222,  0.368945  ,  0.5265429 , -0.11132848,  0.00567991],\n",
       "        [-0.49674225, -0.26885822,  0.259633  , -0.29610828, -0.29440722,\n",
       "          0.25255167,  0.53736067, -0.26043993,  0.02173036,  0.44921422]],\n",
       "       dtype=float32),\n",
       " array([0., 0., 0., 0., 0., 0., 0., 0., 0., 0.], dtype=float32),\n",
       " array([[-0.49900967],\n",
       "        [-0.02796632],\n",
       "        [-0.4265864 ],\n",
       "        [-0.39304015],\n",
       "        [ 0.60165316],\n",
       "        [-0.13139743],\n",
       "        [ 0.4117971 ],\n",
       "        [-0.68113136],\n",
       "        [ 0.01295662],\n",
       "        [ 0.2962064 ]], dtype=float32),\n",
       " array([0.], dtype=float32)]"
      ]
     },
     "execution_count": 11,
     "metadata": {},
     "output_type": "execute_result"
    }
   ],
   "source": [
    "model.get_weights()"
   ]
  },
  {
   "cell_type": "code",
   "execution_count": 12,
   "id": "baeaeb1b-de53-4992-b335-5559d108d9bb",
   "metadata": {},
   "outputs": [],
   "source": [
    "initial_weights = model.get_weights()"
   ]
  },
  {
   "cell_type": "code",
   "execution_count": 20,
   "id": "4278ba80-5bb9-4dde-953d-845f25f1a185",
   "metadata": {},
   "outputs": [],
   "source": [
    "initial_weights[0] = np.random.randn(2,10)*np.sqrt(1/2)\n",
    "initial_weights[1] = np.zeros(model.get_weights()[1].shape) # here it bias \n",
    "initial_weights[2] = np.random.randn(10,10)*np.sqrt(1/10)\n",
    "initial_weights[3] = np.zeros(model.get_weights()[3].shape)\n",
    "initial_weights[4] = np.random.randn(10,10)*np.sqrt(1/10)\n",
    "initial_weights[5] = np.zeros(model.get_weights()[5].shape)\n",
    "initial_weights[6] = np.random.randn(10,10)*np.sqrt(1/10)\n",
    "initial_weights[7] = np.zeros(model.get_weights()[7].shape)\n",
    "initial_weights[8] = np.random.randn(10,1)*np.sqrt(1/10)\n",
    "initial_weights[9] = np.zeros(model.get_weights()[9].shape)"
   ]
  },
  {
   "cell_type": "code",
   "execution_count": 14,
   "id": "ed87fc54-dab6-43ac-815d-590b7a307857",
   "metadata": {},
   "outputs": [],
   "source": [
    "model.set_weights(initial_weights)"
   ]
  },
  {
   "cell_type": "code",
   "execution_count": 15,
   "id": "6739cdc4-3e19-4b45-84a6-f08055b10d40",
   "metadata": {},
   "outputs": [
    {
     "data": {
      "text/plain": [
       "[array([[-0.10220038, -1.472285  , -0.42605174,  0.39757055,  0.77418536,\n",
       "          0.626222  ,  0.47476867,  0.07178798,  0.25549716, -0.735722  ],\n",
       "        [-0.5220638 ,  1.423355  ,  0.02973431, -0.33490342, -0.16523263,\n",
       "         -0.23655772,  0.16569902,  0.3250024 ,  0.7452502 ,  1.1122166 ]],\n",
       "       dtype=float32),\n",
       " array([0., 0., 0., 0., 0., 0., 0., 0., 0., 0.], dtype=float32),\n",
       " array([[-0.08740833,  0.2474396 , -0.2900728 , -0.11666216,  0.25758266,\n",
       "          0.18163283,  0.43746388, -0.2825723 ,  0.26950032,  0.15533723],\n",
       "        [-0.08570964, -0.36526677,  0.22875085,  0.26205322, -0.02559103,\n",
       "          0.12478752,  0.51561165, -0.27412587,  0.06146539,  0.5280767 ],\n",
       "        [-0.19876884, -0.06691093,  0.41720217, -0.08765711, -0.11741015,\n",
       "         -0.16137138, -0.079566  , -0.09047532,  0.3176014 , -0.35684755],\n",
       "        [ 0.74831206, -0.07346459,  0.01515307,  0.2959248 ,  0.9225067 ,\n",
       "          0.57886153,  0.08088011,  0.05167896, -0.1772755 , -0.16772754],\n",
       "        [-0.39334843,  0.47864428,  0.00718054,  0.23163536, -0.4275659 ,\n",
       "          0.16853535, -0.3410035 , -0.12475389, -0.02251037,  0.11039744],\n",
       "        [ 0.18746926, -0.3732893 ,  0.41346717, -0.15693602, -0.10940372,\n",
       "         -0.6963205 , -0.12743832, -0.46737504, -0.10610053, -0.15626791],\n",
       "        [ 0.13631228, -0.20919582, -0.7988742 ,  0.0628427 ,  0.31637147,\n",
       "         -0.43320486,  0.34862217,  0.38077682, -0.23480563, -0.1382771 ],\n",
       "        [ 0.46164277, -0.21327832, -0.03204479,  0.02363809, -0.5861663 ,\n",
       "          0.16402641, -0.19577268, -0.09752299,  0.20519944,  0.6466849 ],\n",
       "        [-0.23642294, -0.04088496,  0.00205609, -0.20337604,  0.15529674,\n",
       "         -0.35131937,  0.1254458 ,  0.33602372,  0.48111185, -0.05215738],\n",
       "        [-0.07600556,  0.26000562, -0.08320275, -0.45135945, -0.31601647,\n",
       "          0.0228871 ,  0.02211655,  0.26547647,  0.50246227, -0.15078601]],\n",
       "       dtype=float32),\n",
       " array([0., 0., 0., 0., 0., 0., 0., 0., 0., 0.], dtype=float32),\n",
       " array([[ 4.4399378e-05,  5.2232158e-01,  2.6527978e-02, -9.3517601e-03,\n",
       "          2.7366921e-01, -1.4725113e-01, -1.5818823e-02, -2.8128931e-01,\n",
       "          1.0034457e+00, -2.2598726e-01],\n",
       "        [-1.6442302e-01,  4.0496998e-02, -3.3023536e-01,  1.2736583e-01,\n",
       "         -5.7177478e-01,  5.1900464e-01, -1.3120854e-01,  3.5058364e-02,\n",
       "          1.3447952e-01,  3.0416149e-01],\n",
       "        [-2.7939314e-01, -1.0376631e-01, -9.5799811e-02,  2.5514815e-02,\n",
       "         -3.5395998e-01, -1.1585933e-01,  2.2758994e-01, -2.7705252e-01,\n",
       "          4.0307805e-02, -4.9727462e-02],\n",
       "        [-4.3771982e-01,  7.6614417e-02, -3.9602509e-01,  3.9211294e-01,\n",
       "          1.1653958e-01,  4.2111358e-01, -1.1557471e-01,  3.5972211e-01,\n",
       "         -4.1451523e-01, -2.0035389e-01],\n",
       "        [ 6.4495933e-01,  3.9769042e-01,  5.2809882e-01, -3.9126372e-01,\n",
       "         -3.4787986e-01,  4.9358866e-01, -1.3734993e-01,  1.5939224e-01,\n",
       "          6.1678857e-01, -2.4322440e-01],\n",
       "        [-5.5259474e-02,  1.2487338e-01,  4.6657020e-01, -1.0570949e-02,\n",
       "          7.0841849e-01, -3.2726550e-01, -9.5656648e-02,  1.8334128e-01,\n",
       "          4.7469407e-01,  9.0187073e-01],\n",
       "        [-2.1564329e-01, -3.8458452e-01, -4.2570072e-01, -7.6732743e-01,\n",
       "          3.2421190e-01, -1.7559727e-01,  8.1614748e-02,  3.9784989e-01,\n",
       "         -1.8211083e-02, -1.5545648e-01],\n",
       "        [ 5.8895703e-02,  9.8003447e-02, -1.6409813e-03,  2.2976042e-01,\n",
       "         -4.9471757e-01, -2.6325896e-01,  1.8541820e-01,  6.0168093e-01,\n",
       "         -2.3834668e-01,  2.4646088e-01],\n",
       "        [ 4.7207201e-01, -4.8540592e-02, -3.3689436e-01,  8.6194359e-02,\n",
       "         -3.0958056e-01,  3.7506029e-01, -5.0881773e-01, -4.1203642e-01,\n",
       "         -5.1884395e-01,  1.9633810e-01],\n",
       "        [ 1.5312830e-01, -2.8208977e-01,  6.6049471e-02,  1.6907744e-02,\n",
       "         -1.6482098e-01, -1.3855182e-01, -3.9270443e-01,  1.5374507e-01,\n",
       "         -5.2002740e-01,  8.9193068e-02]], dtype=float32),\n",
       " array([0., 0., 0., 0., 0., 0., 0., 0., 0., 0.], dtype=float32),\n",
       " array([[ 0.38681576,  0.02345538, -0.42204246,  0.50351334,  0.41724083,\n",
       "          0.8645862 ,  0.08969036,  0.5384253 ,  0.22617483,  0.23523913],\n",
       "        [ 0.29855254, -0.15779932, -0.5351489 ,  0.04434047,  0.2031324 ,\n",
       "         -0.10381556,  0.05732497, -0.46946263, -0.26435852,  0.24526381],\n",
       "        [-0.12184358,  0.01852503, -0.42730024, -0.05151491, -0.7158941 ,\n",
       "         -0.15541154,  0.05005793,  0.7412586 ,  0.04675286,  0.3781667 ],\n",
       "        [ 0.29879302, -0.0522378 , -0.06793661, -0.01948841, -0.3934353 ,\n",
       "          0.23229145,  0.02626208, -0.39761642, -0.3042725 , -0.27153876],\n",
       "        [ 0.43218145,  0.08808566,  0.27143335,  0.29159126, -0.6263177 ,\n",
       "         -0.8523544 , -0.47735423,  0.28064403, -0.42344984,  0.23394112],\n",
       "        [ 0.12869921,  0.26084334,  0.7819574 , -0.12392553,  0.4182751 ,\n",
       "          0.73472565, -0.05490175, -0.01164155, -0.10840628, -0.15574324],\n",
       "        [ 0.31096786,  0.04619646,  0.12805066,  0.1117918 ,  0.31933942,\n",
       "          0.410259  ,  0.26711524,  0.36853254, -0.25440192, -0.20536362],\n",
       "        [ 0.26184344, -0.19234614,  0.1528288 , -0.49942616, -0.08053789,\n",
       "          0.10625053,  0.29072362,  0.21443419,  0.38934523, -0.56198055],\n",
       "        [ 0.5174585 , -0.17153601,  0.11944593, -0.12233092,  0.53367394,\n",
       "          0.35308802,  0.5566278 ,  0.5999858 , -0.2460852 ,  0.62195534],\n",
       "        [-0.5980873 ,  0.204919  ,  0.3172241 ,  0.28359553,  0.31541464,\n",
       "          0.54699135,  0.17420083,  0.11505646, -0.05486577, -0.0539214 ]],\n",
       "       dtype=float32),\n",
       " array([0., 0., 0., 0., 0., 0., 0., 0., 0., 0.], dtype=float32),\n",
       " array([[ 0.11453827],\n",
       "        [-0.35919935],\n",
       "        [-0.5304377 ],\n",
       "        [ 0.23471726],\n",
       "        [-0.04553724],\n",
       "        [ 0.1814795 ],\n",
       "        [ 0.1282594 ],\n",
       "        [ 0.47651267],\n",
       "        [ 0.4164818 ],\n",
       "        [-0.0016578 ]], dtype=float32),\n",
       " array([0.], dtype=float32)]"
      ]
     },
     "execution_count": 15,
     "metadata": {},
     "output_type": "execute_result"
    }
   ],
   "source": [
    "model.get_weights()"
   ]
  },
  {
   "cell_type": "code",
   "execution_count": 16,
   "id": "12ca48a9-a581-4fb0-9cb6-89db129f9d95",
   "metadata": {},
   "outputs": [],
   "source": [
    "model.compile(loss='binary_crossentropy',optimizer='adam',metrics=['accuracy'])"
   ]
  },
  {
   "cell_type": "code",
   "execution_count": 18,
   "id": "c599edac-196d-471e-be63-db2224c89ab5",
   "metadata": {},
   "outputs": [
    {
     "name": "stdout",
     "output_type": "stream",
     "text": [
      "Epoch 1/100\n",
      "\u001b[1m3/3\u001b[0m \u001b[32m━━━━━━━━━━━━━━━━━━━━\u001b[0m\u001b[37m\u001b[0m \u001b[1m3s\u001b[0m 137ms/step - accuracy: 0.7894 - loss: 0.6131 - val_accuracy: 0.8500 - val_loss: 0.5673\n",
      "Epoch 2/100\n",
      "\u001b[1m3/3\u001b[0m \u001b[32m━━━━━━━━━━━━━━━━━━━━\u001b[0m\u001b[37m\u001b[0m \u001b[1m0s\u001b[0m 17ms/step - accuracy: 0.7884 - loss: 0.5880 - val_accuracy: 0.8500 - val_loss: 0.5439\n",
      "Epoch 3/100\n",
      "\u001b[1m3/3\u001b[0m \u001b[32m━━━━━━━━━━━━━━━━━━━━\u001b[0m\u001b[37m\u001b[0m \u001b[1m0s\u001b[0m 16ms/step - accuracy: 0.8236 - loss: 0.5645 - val_accuracy: 0.8500 - val_loss: 0.5233\n",
      "Epoch 4/100\n",
      "\u001b[1m3/3\u001b[0m \u001b[32m━━━━━━━━━━━━━━━━━━━━\u001b[0m\u001b[37m\u001b[0m \u001b[1m0s\u001b[0m 14ms/step - accuracy: 0.8104 - loss: 0.5551 - val_accuracy: 0.8500 - val_loss: 0.5048\n",
      "Epoch 5/100\n",
      "\u001b[1m3/3\u001b[0m \u001b[32m━━━━━━━━━━━━━━━━━━━━\u001b[0m\u001b[37m\u001b[0m \u001b[1m0s\u001b[0m 13ms/step - accuracy: 0.7869 - loss: 0.5524 - val_accuracy: 0.8500 - val_loss: 0.4881\n",
      "Epoch 6/100\n",
      "\u001b[1m3/3\u001b[0m \u001b[32m━━━━━━━━━━━━━━━━━━━━\u001b[0m\u001b[37m\u001b[0m \u001b[1m0s\u001b[0m 16ms/step - accuracy: 0.8065 - loss: 0.5196 - val_accuracy: 0.8500 - val_loss: 0.4723\n",
      "Epoch 7/100\n",
      "\u001b[1m3/3\u001b[0m \u001b[32m━━━━━━━━━━━━━━━━━━━━\u001b[0m\u001b[37m\u001b[0m \u001b[1m0s\u001b[0m 13ms/step - accuracy: 0.8026 - loss: 0.5202 - val_accuracy: 0.8500 - val_loss: 0.4579\n",
      "Epoch 8/100\n",
      "\u001b[1m3/3\u001b[0m \u001b[32m━━━━━━━━━━━━━━━━━━━━\u001b[0m\u001b[37m\u001b[0m \u001b[1m0s\u001b[0m 16ms/step - accuracy: 0.8065 - loss: 0.5003 - val_accuracy: 0.8500 - val_loss: 0.4445\n",
      "Epoch 9/100\n",
      "\u001b[1m3/3\u001b[0m \u001b[32m━━━━━━━━━━━━━━━━━━━━\u001b[0m\u001b[37m\u001b[0m \u001b[1m0s\u001b[0m 13ms/step - accuracy: 0.7674 - loss: 0.5081 - val_accuracy: 0.8500 - val_loss: 0.4325\n",
      "Epoch 10/100\n",
      "\u001b[1m3/3\u001b[0m \u001b[32m━━━━━━━━━━━━━━━━━━━━\u001b[0m\u001b[37m\u001b[0m \u001b[1m0s\u001b[0m 17ms/step - accuracy: 0.7752 - loss: 0.5011 - val_accuracy: 0.8500 - val_loss: 0.4209\n",
      "Epoch 11/100\n",
      "\u001b[1m3/3\u001b[0m \u001b[32m━━━━━━━━━━━━━━━━━━━━\u001b[0m\u001b[37m\u001b[0m \u001b[1m0s\u001b[0m 15ms/step - accuracy: 0.8230 - loss: 0.4802 - val_accuracy: 0.8500 - val_loss: 0.4100\n",
      "Epoch 12/100\n",
      "\u001b[1m3/3\u001b[0m \u001b[32m━━━━━━━━━━━━━━━━━━━━\u001b[0m\u001b[37m\u001b[0m \u001b[1m0s\u001b[0m 15ms/step - accuracy: 0.8035 - loss: 0.4818 - val_accuracy: 0.8500 - val_loss: 0.4000\n",
      "Epoch 13/100\n",
      "\u001b[1m3/3\u001b[0m \u001b[32m━━━━━━━━━━━━━━━━━━━━\u001b[0m\u001b[37m\u001b[0m \u001b[1m0s\u001b[0m 16ms/step - accuracy: 0.8035 - loss: 0.4770 - val_accuracy: 0.8500 - val_loss: 0.3909\n",
      "Epoch 14/100\n",
      "\u001b[1m3/3\u001b[0m \u001b[32m━━━━━━━━━━━━━━━━━━━━\u001b[0m\u001b[37m\u001b[0m \u001b[1m0s\u001b[0m 16ms/step - accuracy: 0.8255 - loss: 0.4528 - val_accuracy: 0.8500 - val_loss: 0.3826\n",
      "Epoch 15/100\n",
      "\u001b[1m3/3\u001b[0m \u001b[32m━━━━━━━━━━━━━━━━━━━━\u001b[0m\u001b[37m\u001b[0m \u001b[1m0s\u001b[0m 15ms/step - accuracy: 0.8176 - loss: 0.4621 - val_accuracy: 0.8500 - val_loss: 0.3751\n",
      "Epoch 16/100\n",
      "\u001b[1m3/3\u001b[0m \u001b[32m━━━━━━━━━━━━━━━━━━━━\u001b[0m\u001b[37m\u001b[0m \u001b[1m0s\u001b[0m 16ms/step - accuracy: 0.8411 - loss: 0.4441 - val_accuracy: 0.8500 - val_loss: 0.3680\n",
      "Epoch 17/100\n",
      "\u001b[1m3/3\u001b[0m \u001b[32m━━━━━━━━━━━━━━━━━━━━\u001b[0m\u001b[37m\u001b[0m \u001b[1m0s\u001b[0m 23ms/step - accuracy: 0.8215 - loss: 0.4517 - val_accuracy: 0.8500 - val_loss: 0.3617\n",
      "Epoch 18/100\n",
      "\u001b[1m3/3\u001b[0m \u001b[32m━━━━━━━━━━━━━━━━━━━━\u001b[0m\u001b[37m\u001b[0m \u001b[1m0s\u001b[0m 16ms/step - accuracy: 0.7981 - loss: 0.4637 - val_accuracy: 0.9000 - val_loss: 0.3560\n",
      "Epoch 19/100\n",
      "\u001b[1m3/3\u001b[0m \u001b[32m━━━━━━━━━━━━━━━━━━━━\u001b[0m\u001b[37m\u001b[0m \u001b[1m0s\u001b[0m 16ms/step - accuracy: 0.8215 - loss: 0.4432 - val_accuracy: 0.9000 - val_loss: 0.3504\n",
      "Epoch 20/100\n",
      "\u001b[1m3/3\u001b[0m \u001b[32m━━━━━━━━━━━━━━━━━━━━\u001b[0m\u001b[37m\u001b[0m \u001b[1m0s\u001b[0m 16ms/step - accuracy: 0.8137 - loss: 0.4396 - val_accuracy: 0.9000 - val_loss: 0.3453\n",
      "Epoch 21/100\n",
      "\u001b[1m3/3\u001b[0m \u001b[32m━━━━━━━━━━━━━━━━━━━━\u001b[0m\u001b[37m\u001b[0m \u001b[1m0s\u001b[0m 15ms/step - accuracy: 0.8201 - loss: 0.4471 - val_accuracy: 0.9000 - val_loss: 0.3405\n",
      "Epoch 22/100\n",
      "\u001b[1m3/3\u001b[0m \u001b[32m━━━━━━━━━━━━━━━━━━━━\u001b[0m\u001b[37m\u001b[0m \u001b[1m0s\u001b[0m 14ms/step - accuracy: 0.8240 - loss: 0.4460 - val_accuracy: 0.9000 - val_loss: 0.3355\n",
      "Epoch 23/100\n",
      "\u001b[1m3/3\u001b[0m \u001b[32m━━━━━━━━━━━━━━━━━━━━\u001b[0m\u001b[37m\u001b[0m \u001b[1m0s\u001b[0m 16ms/step - accuracy: 0.8279 - loss: 0.4429 - val_accuracy: 0.9000 - val_loss: 0.3303\n",
      "Epoch 24/100\n",
      "\u001b[1m3/3\u001b[0m \u001b[32m━━━━━━━━━━━━━━━━━━━━\u001b[0m\u001b[37m\u001b[0m \u001b[1m0s\u001b[0m 15ms/step - accuracy: 0.8279 - loss: 0.4319 - val_accuracy: 0.9000 - val_loss: 0.3254\n",
      "Epoch 25/100\n",
      "\u001b[1m3/3\u001b[0m \u001b[32m━━━━━━━━━━━━━━━━━━━━\u001b[0m\u001b[37m\u001b[0m \u001b[1m0s\u001b[0m 17ms/step - accuracy: 0.8162 - loss: 0.4358 - val_accuracy: 0.9000 - val_loss: 0.3212\n",
      "Epoch 26/100\n",
      "\u001b[1m3/3\u001b[0m \u001b[32m━━━━━━━━━━━━━━━━━━━━\u001b[0m\u001b[37m\u001b[0m \u001b[1m0s\u001b[0m 15ms/step - accuracy: 0.8498 - loss: 0.4168 - val_accuracy: 0.9000 - val_loss: 0.3175\n",
      "Epoch 27/100\n",
      "\u001b[1m3/3\u001b[0m \u001b[32m━━━━━━━━━━━━━━━━━━━━\u001b[0m\u001b[37m\u001b[0m \u001b[1m0s\u001b[0m 14ms/step - accuracy: 0.8616 - loss: 0.3881 - val_accuracy: 0.9000 - val_loss: 0.3142\n",
      "Epoch 28/100\n",
      "\u001b[1m3/3\u001b[0m \u001b[32m━━━━━━━━━━━━━━━━━━━━\u001b[0m\u001b[37m\u001b[0m \u001b[1m0s\u001b[0m 16ms/step - accuracy: 0.8616 - loss: 0.3754 - val_accuracy: 0.9000 - val_loss: 0.3112\n",
      "Epoch 29/100\n",
      "\u001b[1m3/3\u001b[0m \u001b[32m━━━━━━━━━━━━━━━━━━━━\u001b[0m\u001b[37m\u001b[0m \u001b[1m0s\u001b[0m 16ms/step - accuracy: 0.8396 - loss: 0.3836 - val_accuracy: 0.9000 - val_loss: 0.3089\n",
      "Epoch 30/100\n",
      "\u001b[1m3/3\u001b[0m \u001b[32m━━━━━━━━━━━━━━━━━━━━\u001b[0m\u001b[37m\u001b[0m \u001b[1m0s\u001b[0m 18ms/step - accuracy: 0.8279 - loss: 0.4077 - val_accuracy: 0.9000 - val_loss: 0.3072\n",
      "Epoch 31/100\n",
      "\u001b[1m3/3\u001b[0m \u001b[32m━━━━━━━━━━━━━━━━━━━━\u001b[0m\u001b[37m\u001b[0m \u001b[1m0s\u001b[0m 15ms/step - accuracy: 0.8240 - loss: 0.4116 - val_accuracy: 0.9000 - val_loss: 0.3061\n",
      "Epoch 32/100\n",
      "\u001b[1m3/3\u001b[0m \u001b[32m━━━━━━━━━━━━━━━━━━━━\u001b[0m\u001b[37m\u001b[0m \u001b[1m0s\u001b[0m 19ms/step - accuracy: 0.8396 - loss: 0.4048 - val_accuracy: 0.9000 - val_loss: 0.3044\n",
      "Epoch 33/100\n",
      "\u001b[1m3/3\u001b[0m \u001b[32m━━━━━━━━━━━━━━━━━━━━\u001b[0m\u001b[37m\u001b[0m \u001b[1m0s\u001b[0m 15ms/step - accuracy: 0.8318 - loss: 0.4001 - val_accuracy: 0.9000 - val_loss: 0.3031\n",
      "Epoch 34/100\n",
      "\u001b[1m3/3\u001b[0m \u001b[32m━━━━━━━━━━━━━━━━━━━━\u001b[0m\u001b[37m\u001b[0m \u001b[1m0s\u001b[0m 13ms/step - accuracy: 0.8357 - loss: 0.3992 - val_accuracy: 0.9000 - val_loss: 0.3016\n",
      "Epoch 35/100\n",
      "\u001b[1m3/3\u001b[0m \u001b[32m━━━━━━━━━━━━━━━━━━━━\u001b[0m\u001b[37m\u001b[0m \u001b[1m0s\u001b[0m 17ms/step - accuracy: 0.8772 - loss: 0.3601 - val_accuracy: 0.9000 - val_loss: 0.3006\n",
      "Epoch 36/100\n",
      "\u001b[1m3/3\u001b[0m \u001b[32m━━━━━━━━━━━━━━━━━━━━\u001b[0m\u001b[37m\u001b[0m \u001b[1m0s\u001b[0m 16ms/step - accuracy: 0.8655 - loss: 0.3778 - val_accuracy: 0.9000 - val_loss: 0.2998\n",
      "Epoch 37/100\n",
      "\u001b[1m3/3\u001b[0m \u001b[32m━━━━━━━━━━━━━━━━━━━━\u001b[0m\u001b[37m\u001b[0m \u001b[1m0s\u001b[0m 15ms/step - accuracy: 0.8616 - loss: 0.3594 - val_accuracy: 0.9000 - val_loss: 0.2985\n",
      "Epoch 38/100\n",
      "\u001b[1m3/3\u001b[0m \u001b[32m━━━━━━━━━━━━━━━━━━━━\u001b[0m\u001b[37m\u001b[0m \u001b[1m0s\u001b[0m 14ms/step - accuracy: 0.8420 - loss: 0.4072 - val_accuracy: 0.9000 - val_loss: 0.2961\n",
      "Epoch 39/100\n",
      "\u001b[1m3/3\u001b[0m \u001b[32m━━━━━━━━━━━━━━━━━━━━\u001b[0m\u001b[37m\u001b[0m \u001b[1m0s\u001b[0m 14ms/step - accuracy: 0.8366 - loss: 0.4231 - val_accuracy: 0.9000 - val_loss: 0.2937\n",
      "Epoch 40/100\n",
      "\u001b[1m3/3\u001b[0m \u001b[32m━━━━━━━━━━━━━━━━━━━━\u001b[0m\u001b[37m\u001b[0m \u001b[1m0s\u001b[0m 15ms/step - accuracy: 0.8303 - loss: 0.4148 - val_accuracy: 0.9000 - val_loss: 0.2921\n",
      "Epoch 41/100\n",
      "\u001b[1m3/3\u001b[0m \u001b[32m━━━━━━━━━━━━━━━━━━━━\u001b[0m\u001b[37m\u001b[0m \u001b[1m0s\u001b[0m 14ms/step - accuracy: 0.8459 - loss: 0.3980 - val_accuracy: 0.9000 - val_loss: 0.2899\n",
      "Epoch 42/100\n",
      "\u001b[1m3/3\u001b[0m \u001b[32m━━━━━━━━━━━━━━━━━━━━\u001b[0m\u001b[37m\u001b[0m \u001b[1m0s\u001b[0m 14ms/step - accuracy: 0.8772 - loss: 0.3449 - val_accuracy: 0.9000 - val_loss: 0.2876\n",
      "Epoch 43/100\n",
      "\u001b[1m3/3\u001b[0m \u001b[32m━━━━━━━━━━━━━━━━━━━━\u001b[0m\u001b[37m\u001b[0m \u001b[1m0s\u001b[0m 15ms/step - accuracy: 0.8459 - loss: 0.3951 - val_accuracy: 0.9000 - val_loss: 0.2865\n",
      "Epoch 44/100\n",
      "\u001b[1m3/3\u001b[0m \u001b[32m━━━━━━━━━━━━━━━━━━━━\u001b[0m\u001b[37m\u001b[0m \u001b[1m0s\u001b[0m 15ms/step - accuracy: 0.8498 - loss: 0.3854 - val_accuracy: 0.9000 - val_loss: 0.2853\n",
      "Epoch 45/100\n",
      "\u001b[1m3/3\u001b[0m \u001b[32m━━━━━━━━━━━━━━━━━━━━\u001b[0m\u001b[37m\u001b[0m \u001b[1m0s\u001b[0m 14ms/step - accuracy: 0.8498 - loss: 0.3784 - val_accuracy: 0.9000 - val_loss: 0.2841\n",
      "Epoch 46/100\n",
      "\u001b[1m3/3\u001b[0m \u001b[32m━━━━━━━━━━━━━━━━━━━━\u001b[0m\u001b[37m\u001b[0m \u001b[1m0s\u001b[0m 20ms/step - accuracy: 0.8576 - loss: 0.3700 - val_accuracy: 0.9000 - val_loss: 0.2837\n",
      "Epoch 47/100\n",
      "\u001b[1m3/3\u001b[0m \u001b[32m━━━━━━━━━━━━━━━━━━━━\u001b[0m\u001b[37m\u001b[0m \u001b[1m0s\u001b[0m 14ms/step - accuracy: 0.8811 - loss: 0.3535 - val_accuracy: 0.9000 - val_loss: 0.2837\n",
      "Epoch 48/100\n",
      "\u001b[1m3/3\u001b[0m \u001b[32m━━━━━━━━━━━━━━━━━━━━\u001b[0m\u001b[37m\u001b[0m \u001b[1m0s\u001b[0m 14ms/step - accuracy: 0.8772 - loss: 0.3566 - val_accuracy: 0.9000 - val_loss: 0.2835\n",
      "Epoch 49/100\n",
      "\u001b[1m3/3\u001b[0m \u001b[32m━━━━━━━━━━━━━━━━━━━━\u001b[0m\u001b[37m\u001b[0m \u001b[1m0s\u001b[0m 15ms/step - accuracy: 0.8420 - loss: 0.4063 - val_accuracy: 0.9000 - val_loss: 0.2831\n",
      "Epoch 50/100\n",
      "\u001b[1m3/3\u001b[0m \u001b[32m━━━━━━━━━━━━━━━━━━━━\u001b[0m\u001b[37m\u001b[0m \u001b[1m0s\u001b[0m 15ms/step - accuracy: 0.8483 - loss: 0.4067 - val_accuracy: 0.9000 - val_loss: 0.2823\n",
      "Epoch 51/100\n",
      "\u001b[1m3/3\u001b[0m \u001b[32m━━━━━━━━━━━━━━━━━━━━\u001b[0m\u001b[37m\u001b[0m \u001b[1m0s\u001b[0m 13ms/step - accuracy: 0.8757 - loss: 0.3748 - val_accuracy: 0.9000 - val_loss: 0.2814\n",
      "Epoch 52/100\n",
      "\u001b[1m3/3\u001b[0m \u001b[32m━━━━━━━━━━━━━━━━━━━━\u001b[0m\u001b[37m\u001b[0m \u001b[1m0s\u001b[0m 16ms/step - accuracy: 0.8601 - loss: 0.3868 - val_accuracy: 0.9000 - val_loss: 0.2821\n",
      "Epoch 53/100\n",
      "\u001b[1m3/3\u001b[0m \u001b[32m━━━━━━━━━━━━━━━━━━━━\u001b[0m\u001b[37m\u001b[0m \u001b[1m0s\u001b[0m 16ms/step - accuracy: 0.8483 - loss: 0.3970 - val_accuracy: 0.9000 - val_loss: 0.2820\n",
      "Epoch 54/100\n",
      "\u001b[1m3/3\u001b[0m \u001b[32m━━━━━━━━━━━━━━━━━━━━\u001b[0m\u001b[37m\u001b[0m \u001b[1m0s\u001b[0m 13ms/step - accuracy: 0.8601 - loss: 0.3820 - val_accuracy: 0.9000 - val_loss: 0.2820\n",
      "Epoch 55/100\n",
      "\u001b[1m3/3\u001b[0m \u001b[32m━━━━━━━━━━━━━━━━━━━━\u001b[0m\u001b[37m\u001b[0m \u001b[1m0s\u001b[0m 13ms/step - accuracy: 0.8991 - loss: 0.3318 - val_accuracy: 0.9000 - val_loss: 0.2810\n",
      "Epoch 56/100\n",
      "\u001b[1m3/3\u001b[0m \u001b[32m━━━━━━━━━━━━━━━━━━━━\u001b[0m\u001b[37m\u001b[0m \u001b[1m0s\u001b[0m 13ms/step - accuracy: 0.8562 - loss: 0.3959 - val_accuracy: 0.9000 - val_loss: 0.2802\n",
      "Epoch 57/100\n",
      "\u001b[1m3/3\u001b[0m \u001b[32m━━━━━━━━━━━━━━━━━━━━\u001b[0m\u001b[37m\u001b[0m \u001b[1m0s\u001b[0m 16ms/step - accuracy: 0.8679 - loss: 0.3734 - val_accuracy: 0.9000 - val_loss: 0.2800\n",
      "Epoch 58/100\n",
      "\u001b[1m3/3\u001b[0m \u001b[32m━━━━━━━━━━━━━━━━━━━━\u001b[0m\u001b[37m\u001b[0m \u001b[1m0s\u001b[0m 15ms/step - accuracy: 0.8640 - loss: 0.3681 - val_accuracy: 0.9000 - val_loss: 0.2788\n",
      "Epoch 59/100\n",
      "\u001b[1m3/3\u001b[0m \u001b[32m━━━━━━━━━━━━━━━━━━━━\u001b[0m\u001b[37m\u001b[0m \u001b[1m0s\u001b[0m 23ms/step - accuracy: 0.8562 - loss: 0.3866 - val_accuracy: 0.9000 - val_loss: 0.2784\n",
      "Epoch 60/100\n",
      "\u001b[1m3/3\u001b[0m \u001b[32m━━━━━━━━━━━━━━━━━━━━\u001b[0m\u001b[37m\u001b[0m \u001b[1m0s\u001b[0m 16ms/step - accuracy: 0.8444 - loss: 0.3958 - val_accuracy: 0.9000 - val_loss: 0.2787\n",
      "Epoch 61/100\n",
      "\u001b[1m3/3\u001b[0m \u001b[32m━━━━━━━━━━━━━━━━━━━━\u001b[0m\u001b[37m\u001b[0m \u001b[1m0s\u001b[0m 15ms/step - accuracy: 0.8640 - loss: 0.3731 - val_accuracy: 0.9000 - val_loss: 0.2788\n",
      "Epoch 62/100\n",
      "\u001b[1m3/3\u001b[0m \u001b[32m━━━━━━━━━━━━━━━━━━━━\u001b[0m\u001b[37m\u001b[0m \u001b[1m0s\u001b[0m 13ms/step - accuracy: 0.8601 - loss: 0.3773 - val_accuracy: 0.9000 - val_loss: 0.2792\n",
      "Epoch 63/100\n",
      "\u001b[1m3/3\u001b[0m \u001b[32m━━━━━━━━━━━━━━━━━━━━\u001b[0m\u001b[37m\u001b[0m \u001b[1m0s\u001b[0m 13ms/step - accuracy: 0.8444 - loss: 0.4083 - val_accuracy: 0.9000 - val_loss: 0.2800\n",
      "Epoch 64/100\n",
      "\u001b[1m3/3\u001b[0m \u001b[32m━━━━━━━━━━━━━━━━━━━━\u001b[0m\u001b[37m\u001b[0m \u001b[1m0s\u001b[0m 13ms/step - accuracy: 0.8718 - loss: 0.3581 - val_accuracy: 0.9000 - val_loss: 0.2804\n",
      "Epoch 65/100\n",
      "\u001b[1m3/3\u001b[0m \u001b[32m━━━━━━━━━━━━━━━━━━━━\u001b[0m\u001b[37m\u001b[0m \u001b[1m0s\u001b[0m 13ms/step - accuracy: 0.8679 - loss: 0.3726 - val_accuracy: 0.9000 - val_loss: 0.2809\n",
      "Epoch 66/100\n",
      "\u001b[1m3/3\u001b[0m \u001b[32m━━━━━━━━━━━━━━━━━━━━\u001b[0m\u001b[37m\u001b[0m \u001b[1m0s\u001b[0m 13ms/step - accuracy: 0.8562 - loss: 0.3814 - val_accuracy: 0.9000 - val_loss: 0.2817\n",
      "Epoch 67/100\n",
      "\u001b[1m3/3\u001b[0m \u001b[32m━━━━━━━━━━━━━━━━━━━━\u001b[0m\u001b[37m\u001b[0m \u001b[1m0s\u001b[0m 13ms/step - accuracy: 0.8757 - loss: 0.3659 - val_accuracy: 0.9000 - val_loss: 0.2823\n",
      "Epoch 68/100\n",
      "\u001b[1m3/3\u001b[0m \u001b[32m━━━━━━━━━━━━━━━━━━━━\u001b[0m\u001b[37m\u001b[0m \u001b[1m0s\u001b[0m 13ms/step - accuracy: 0.8562 - loss: 0.3796 - val_accuracy: 0.9000 - val_loss: 0.2826\n",
      "Epoch 69/100\n",
      "\u001b[1m3/3\u001b[0m \u001b[32m━━━━━━━━━━━━━━━━━━━━\u001b[0m\u001b[37m\u001b[0m \u001b[1m0s\u001b[0m 13ms/step - accuracy: 0.8562 - loss: 0.3954 - val_accuracy: 0.9000 - val_loss: 0.2838\n",
      "Epoch 70/100\n",
      "\u001b[1m3/3\u001b[0m \u001b[32m━━━━━━━━━━━━━━━━━━━━\u001b[0m\u001b[37m\u001b[0m \u001b[1m0s\u001b[0m 16ms/step - accuracy: 0.8405 - loss: 0.4156 - val_accuracy: 0.9000 - val_loss: 0.2831\n",
      "Epoch 71/100\n",
      "\u001b[1m3/3\u001b[0m \u001b[32m━━━━━━━━━━━━━━━━━━━━\u001b[0m\u001b[37m\u001b[0m \u001b[1m0s\u001b[0m 15ms/step - accuracy: 0.8640 - loss: 0.3786 - val_accuracy: 0.9000 - val_loss: 0.2814\n",
      "Epoch 72/100\n",
      "\u001b[1m3/3\u001b[0m \u001b[32m━━━━━━━━━━━━━━━━━━━━\u001b[0m\u001b[37m\u001b[0m \u001b[1m0s\u001b[0m 13ms/step - accuracy: 0.8718 - loss: 0.3621 - val_accuracy: 0.9000 - val_loss: 0.2788\n",
      "Epoch 73/100\n",
      "\u001b[1m3/3\u001b[0m \u001b[32m━━━━━━━━━━━━━━━━━━━━\u001b[0m\u001b[37m\u001b[0m \u001b[1m0s\u001b[0m 13ms/step - accuracy: 0.8679 - loss: 0.3739 - val_accuracy: 0.9000 - val_loss: 0.2773\n",
      "Epoch 74/100\n",
      "\u001b[1m3/3\u001b[0m \u001b[32m━━━━━━━━━━━━━━━━━━━━\u001b[0m\u001b[37m\u001b[0m \u001b[1m0s\u001b[0m 12ms/step - accuracy: 0.8718 - loss: 0.3470 - val_accuracy: 0.9000 - val_loss: 0.2766\n",
      "Epoch 75/100\n",
      "\u001b[1m3/3\u001b[0m \u001b[32m━━━━━━━━━━━━━━━━━━━━\u001b[0m\u001b[37m\u001b[0m \u001b[1m0s\u001b[0m 13ms/step - accuracy: 0.8757 - loss: 0.3640 - val_accuracy: 0.9000 - val_loss: 0.2765\n",
      "Epoch 76/100\n",
      "\u001b[1m3/3\u001b[0m \u001b[32m━━━━━━━━━━━━━━━━━━━━\u001b[0m\u001b[37m\u001b[0m \u001b[1m0s\u001b[0m 13ms/step - accuracy: 0.8640 - loss: 0.3754 - val_accuracy: 0.9000 - val_loss: 0.2785\n",
      "Epoch 77/100\n",
      "\u001b[1m3/3\u001b[0m \u001b[32m━━━━━━━━━━━━━━━━━━━━\u001b[0m\u001b[37m\u001b[0m \u001b[1m0s\u001b[0m 13ms/step - accuracy: 0.8718 - loss: 0.3759 - val_accuracy: 0.9000 - val_loss: 0.2814\n",
      "Epoch 78/100\n",
      "\u001b[1m3/3\u001b[0m \u001b[32m━━━━━━━━━━━━━━━━━━━━\u001b[0m\u001b[37m\u001b[0m \u001b[1m0s\u001b[0m 13ms/step - accuracy: 0.8952 - loss: 0.3127 - val_accuracy: 0.9000 - val_loss: 0.2826\n",
      "Epoch 79/100\n",
      "\u001b[1m3/3\u001b[0m \u001b[32m━━━━━━━━━━━━━━━━━━━━\u001b[0m\u001b[37m\u001b[0m \u001b[1m0s\u001b[0m 23ms/step - accuracy: 0.8796 - loss: 0.3587 - val_accuracy: 0.9000 - val_loss: 0.2835\n",
      "Epoch 80/100\n",
      "\u001b[1m3/3\u001b[0m \u001b[32m━━━━━━━━━━━━━━━━━━━━\u001b[0m\u001b[37m\u001b[0m \u001b[1m0s\u001b[0m 13ms/step - accuracy: 0.8757 - loss: 0.3645 - val_accuracy: 0.9000 - val_loss: 0.2849\n",
      "Epoch 81/100\n",
      "\u001b[1m3/3\u001b[0m \u001b[32m━━━━━━━━━━━━━━━━━━━━\u001b[0m\u001b[37m\u001b[0m \u001b[1m0s\u001b[0m 13ms/step - accuracy: 0.8913 - loss: 0.3209 - val_accuracy: 0.9000 - val_loss: 0.2849\n",
      "Epoch 82/100\n",
      "\u001b[1m3/3\u001b[0m \u001b[32m━━━━━━━━━━━━━━━━━━━━\u001b[0m\u001b[37m\u001b[0m \u001b[1m0s\u001b[0m 13ms/step - accuracy: 0.8523 - loss: 0.3913 - val_accuracy: 0.9000 - val_loss: 0.2846\n",
      "Epoch 83/100\n",
      "\u001b[1m3/3\u001b[0m \u001b[32m━━━━━━━━━━━━━━━━━━━━\u001b[0m\u001b[37m\u001b[0m \u001b[1m0s\u001b[0m 13ms/step - accuracy: 0.8444 - loss: 0.4032 - val_accuracy: 0.9000 - val_loss: 0.2838\n",
      "Epoch 84/100\n",
      "\u001b[1m3/3\u001b[0m \u001b[32m━━━━━━━━━━━━━━━━━━━━\u001b[0m\u001b[37m\u001b[0m \u001b[1m0s\u001b[0m 13ms/step - accuracy: 0.8640 - loss: 0.3697 - val_accuracy: 0.9000 - val_loss: 0.2818\n",
      "Epoch 85/100\n",
      "\u001b[1m3/3\u001b[0m \u001b[32m━━━━━━━━━━━━━━━━━━━━\u001b[0m\u001b[37m\u001b[0m \u001b[1m0s\u001b[0m 13ms/step - accuracy: 0.8679 - loss: 0.3758 - val_accuracy: 0.9000 - val_loss: 0.2794\n",
      "Epoch 86/100\n",
      "\u001b[1m3/3\u001b[0m \u001b[32m━━━━━━━━━━━━━━━━━━━━\u001b[0m\u001b[37m\u001b[0m \u001b[1m0s\u001b[0m 13ms/step - accuracy: 0.8523 - loss: 0.3865 - val_accuracy: 0.9000 - val_loss: 0.2774\n",
      "Epoch 87/100\n",
      "\u001b[1m3/3\u001b[0m \u001b[32m━━━━━━━━━━━━━━━━━━━━\u001b[0m\u001b[37m\u001b[0m \u001b[1m0s\u001b[0m 13ms/step - accuracy: 0.8523 - loss: 0.3893 - val_accuracy: 0.9000 - val_loss: 0.2757\n",
      "Epoch 88/100\n",
      "\u001b[1m3/3\u001b[0m \u001b[32m━━━━━━━━━━━━━━━━━━━━\u001b[0m\u001b[37m\u001b[0m \u001b[1m0s\u001b[0m 20ms/step - accuracy: 0.8483 - loss: 0.3831 - val_accuracy: 0.9000 - val_loss: 0.2738\n",
      "Epoch 89/100\n",
      "\u001b[1m3/3\u001b[0m \u001b[32m━━━━━━━━━━━━━━━━━━━━\u001b[0m\u001b[37m\u001b[0m \u001b[1m0s\u001b[0m 13ms/step - accuracy: 0.8640 - loss: 0.3747 - val_accuracy: 0.9000 - val_loss: 0.2722\n",
      "Epoch 90/100\n",
      "\u001b[1m3/3\u001b[0m \u001b[32m━━━━━━━━━━━━━━━━━━━━\u001b[0m\u001b[37m\u001b[0m \u001b[1m0s\u001b[0m 13ms/step - accuracy: 0.8640 - loss: 0.3801 - val_accuracy: 0.9000 - val_loss: 0.2713\n",
      "Epoch 91/100\n",
      "\u001b[1m3/3\u001b[0m \u001b[32m━━━━━━━━━━━━━━━━━━━━\u001b[0m\u001b[37m\u001b[0m \u001b[1m0s\u001b[0m 13ms/step - accuracy: 0.8640 - loss: 0.3772 - val_accuracy: 0.9000 - val_loss: 0.2704\n",
      "Epoch 92/100\n",
      "\u001b[1m3/3\u001b[0m \u001b[32m━━━━━━━━━━━━━━━━━━━━\u001b[0m\u001b[37m\u001b[0m \u001b[1m0s\u001b[0m 13ms/step - accuracy: 0.8640 - loss: 0.3557 - val_accuracy: 0.9000 - val_loss: 0.2689\n",
      "Epoch 93/100\n",
      "\u001b[1m3/3\u001b[0m \u001b[32m━━━━━━━━━━━━━━━━━━━━\u001b[0m\u001b[37m\u001b[0m \u001b[1m0s\u001b[0m 13ms/step - accuracy: 0.8523 - loss: 0.3940 - val_accuracy: 0.9000 - val_loss: 0.2689\n",
      "Epoch 94/100\n",
      "\u001b[1m3/3\u001b[0m \u001b[32m━━━━━━━━━━━━━━━━━━━━\u001b[0m\u001b[37m\u001b[0m \u001b[1m0s\u001b[0m 14ms/step - accuracy: 0.8679 - loss: 0.3645 - val_accuracy: 0.9000 - val_loss: 0.2679\n",
      "Epoch 95/100\n",
      "\u001b[1m3/3\u001b[0m \u001b[32m━━━━━━━━━━━━━━━━━━━━\u001b[0m\u001b[37m\u001b[0m \u001b[1m0s\u001b[0m 13ms/step - accuracy: 0.8366 - loss: 0.4179 - val_accuracy: 0.9000 - val_loss: 0.2683\n",
      "Epoch 96/100\n",
      "\u001b[1m3/3\u001b[0m \u001b[32m━━━━━━━━━━━━━━━━━━━━\u001b[0m\u001b[37m\u001b[0m \u001b[1m0s\u001b[0m 14ms/step - accuracy: 0.8757 - loss: 0.3468 - val_accuracy: 0.9000 - val_loss: 0.2692\n",
      "Epoch 97/100\n",
      "\u001b[1m3/3\u001b[0m \u001b[32m━━━━━━━━━━━━━━━━━━━━\u001b[0m\u001b[37m\u001b[0m \u001b[1m0s\u001b[0m 16ms/step - accuracy: 0.8718 - loss: 0.3427 - val_accuracy: 0.9000 - val_loss: 0.2703\n",
      "Epoch 98/100\n",
      "\u001b[1m3/3\u001b[0m \u001b[32m━━━━━━━━━━━━━━━━━━━━\u001b[0m\u001b[37m\u001b[0m \u001b[1m0s\u001b[0m 14ms/step - accuracy: 0.8601 - loss: 0.3662 - val_accuracy: 0.9000 - val_loss: 0.2731\n",
      "Epoch 99/100\n",
      "\u001b[1m3/3\u001b[0m \u001b[32m━━━━━━━━━━━━━━━━━━━━\u001b[0m\u001b[37m\u001b[0m \u001b[1m0s\u001b[0m 14ms/step - accuracy: 0.8718 - loss: 0.3365 - val_accuracy: 0.9000 - val_loss: 0.2747\n",
      "Epoch 100/100\n",
      "\u001b[1m3/3\u001b[0m \u001b[32m━━━━━━━━━━━━━━━━━━━━\u001b[0m\u001b[37m\u001b[0m \u001b[1m0s\u001b[0m 13ms/step - accuracy: 0.8796 - loss: 0.3351 - val_accuracy: 0.9000 - val_loss: 0.2764\n"
     ]
    }
   ],
   "source": [
    "history = model.fit(X,y,epochs=100,validation_split=0.2)"
   ]
  },
  {
   "cell_type": "code",
   "execution_count": 19,
   "id": "16661b36-238e-4c81-8b99-4c9c249d8abd",
   "metadata": {},
   "outputs": [
    {
     "name": "stdout",
     "output_type": "stream",
     "text": [
      "\u001b[1m9600/9600\u001b[0m \u001b[32m━━━━━━━━━━━━━━━━━━━━\u001b[0m\u001b[37m\u001b[0m \u001b[1m8s\u001b[0m 864us/step\n"
     ]
    },
    {
     "data": {
      "text/plain": [
       "<Axes: >"
      ]
     },
     "execution_count": 19,
     "metadata": {},
     "output_type": "execute_result"
    },
    {
     "data": {
      "image/png": "[encoded data removed]",
      "text/plain": [
       "<Figure size 640x480 with 1 Axes>"
      ]
     },
     "metadata": {},
     "output_type": "display_data"
    }
   ],
   "source": [
    "from mlxtend.plotting import plot_decision_regions\n",
    "plot_decision_regions(X,y.astype('int'), clf=model, legend=2)"
   ]
  },
  {
   "cell_type": "code",
   "execution_count": null,
   "id": "477748d2-d14d-4c1c-b84f-32bde1717a9c",
   "metadata": {},
   "outputs": [],
   "source": []
  }
 ],
 "metadata": {
  "kernelspec": {
   "display_name": "Python 3 (ipykernel)",
   "language": "python",
   "name": "python3"
  },
  "language_info": {
   "codemirror_mode": {
    "name": "ipython",
    "version": 3
   },
   "file_extension": ".py",
   "mimetype": "text/x-python",
   "name": "python",
   "nbconvert_exporter": "python",
   "pygments_lexer": "ipython3",
   "version": "3.11.7"
  }
 },
 "nbformat": 4,
 "nbformat_minor": 5
}
